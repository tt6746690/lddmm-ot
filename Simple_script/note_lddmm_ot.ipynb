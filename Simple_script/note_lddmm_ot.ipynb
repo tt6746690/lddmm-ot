{
 "cells": [
  {
   "cell_type": "markdown",
   "id": "1ea73a3e",
   "metadata": {},
   "source": [
    "goal \n",
    "+ try out ldddm-ot in pytorch ... understand its code"
   ]
  },
  {
   "cell_type": "code",
   "execution_count": 7,
   "id": "f22836e9",
   "metadata": {},
   "outputs": [],
   "source": [
    "\n",
    "\n",
    "import imageio\n",
    "from scipy.ndimage.filters import gaussian_filter\n",
    "import matplotlib.pyplot as plt\n"
   ]
  },
  {
   "cell_type": "code",
   "execution_count": 12,
   "id": "fc80e873",
   "metadata": {},
   "outputs": [
    {
     "data": {
      "text/plain": [
       "(1000, 1000)"
      ]
     },
     "execution_count": 12,
     "metadata": {},
     "output_type": "execute_result"
    }
   ],
   "source": [
    "\n",
    "fname = 'amoeba_1.png'\n",
    "img = imageio.imread(fname, as_gray=True)\n",
    "\n",
    "# plt.imshow(img)\n",
    "\n",
    "# img = (img.T[:, ::-1])  / 255.\n",
    "# img = gaussian_filter(img, smoothing, mode='nearest')\n",
    "# lines = find_contours(img, level)\n",
    "img.T[:, ::-1].shape\n"
   ]
  }
 ],
 "metadata": {
  "kernelspec": {
   "display_name": "Python [conda env:mi_registration] *",
   "language": "python",
   "name": "conda-env-mi_registration-py"
  },
  "language_info": {
   "codemirror_mode": {
    "name": "ipython",
    "version": 3
   },
   "file_extension": ".py",
   "mimetype": "text/x-python",
   "name": "python",
   "nbconvert_exporter": "python",
   "pygments_lexer": "ipython3",
   "version": "3.7.10"
  }
 },
 "nbformat": 4,
 "nbformat_minor": 5
}
